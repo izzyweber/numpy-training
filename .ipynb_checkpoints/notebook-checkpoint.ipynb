{
 "cells": [
  {
   "cell_type": "markdown",
   "id": "373450f1",
   "metadata": {},
   "source": [
    "&nbsp;\n",
    "&nbsp;\n",
    "&nbsp;\n",
    "&nbsp;\n",
    "![DataCamp logo](./assets/regular.png)"
   ]
  },
  {
   "cell_type": "markdown",
   "id": "ddc19672",
   "metadata": {},
   "source": [
    "# Welcome! Let's get to know NumPy."
   ]
  },
  {
   "cell_type": "markdown",
   "id": "2dfbc8f5",
   "metadata": {},
   "source": [
    " - NumPy is the core library for scientific computing in Python. \n",
    " - Foundational Python libraries are built on top of NumPy's API."
   ]
  },
  {
   "cell_type": "markdown",
   "id": "30a6aa43",
   "metadata": {},
   "source": [
    "![DataCamp logo](./assets/numpy_world_logos.png)"
   ]
  },
  {
   "cell_type": "markdown",
   "id": "6a0c5488",
   "metadata": {},
   "source": [
    "### Importing the NumPy package"
   ]
  },
  {
   "cell_type": "code",
   "execution_count": null,
   "id": "a4188873",
   "metadata": {},
   "outputs": [],
   "source": [
    "# Import NumPy\n"
   ]
  },
  {
   "cell_type": "markdown",
   "id": "ec28934b",
   "metadata": {},
   "source": [
    "### NumPy's main object: arrays"
   ]
  },
  {
   "cell_type": "markdown",
   "id": "765bea0f",
   "metadata": {},
   "source": [
    "NumPy arrays store data in any number of dimensions. Here's a look at one, two, and three-dimensional arrays:"
   ]
  },
  {
   "cell_type": "markdown",
   "id": "297c4ee2",
   "metadata": {},
   "source": [
    "<img src=\"./assets/arrays.png\" \n",
    "     width=\"600\" \n",
    "     height=\"700\" />"
   ]
  },
  {
   "cell_type": "markdown",
   "id": "c2190009",
   "metadata": {},
   "source": [
    "NumPy arrays can be created from:\n",
    "- Python lists\n",
    "- `.csv` files\n",
    "- NumPy functions such as `np.arange()`\n",
    "- ...and more!"
   ]
  },
  {
   "cell_type": "markdown",
   "id": "1ad44beb",
   "metadata": {},
   "source": [
    "## Creating arrays from lists"
   ]
  },
  {
   "cell_type": "markdown",
   "id": "bc82d9bb",
   "metadata": {},
   "source": [
    "We can create an array from a Python list using the `np.array()` function.\n",
    "\n",
    "To make a one-dimensional array, pass the list as an argument to `np.array()`:  \n",
    "\n",
    "`new_array = np.array(list_name)`\n",
    "\n",
    "To make a two-dimensional array, pass a tuple of lists as an argument to `np.array()`:  \n",
    "\n",
    "`new_array = np.array((list_name_1, list_name_2))`"
   ]
  },
  {
   "cell_type": "code",
   "execution_count": null,
   "id": "1d21d77e",
   "metadata": {},
   "outputs": [],
   "source": [
    "# Let's start with a few lists\n",
    "list_1 = [1, 2, 3]\n",
    "list_2 = [4, 5, 6]"
   ]
  },
  {
   "cell_type": "code",
   "execution_count": null,
   "id": "40e40d13",
   "metadata": {},
   "outputs": [],
   "source": [
    "# Create a 1-dimensional array from list_1\n",
    "array_from_list_1 = ...\n",
    "array_from_list_1"
   ]
  },
  {
   "cell_type": "code",
   "execution_count": null,
   "id": "3842e067",
   "metadata": {},
   "outputs": [],
   "source": [
    "# Create a 2-dimensional array from list_1 and list_2\n",
    "array_from_list_1_and_2 = ...\n",
    "array_from_list_1_and_2"
   ]
  },
  {
   "cell_type": "markdown",
   "id": "bc7f6396",
   "metadata": {},
   "source": [
    "### Creating arrays from a range"
   ]
  },
  {
   "cell_type": "markdown",
   "id": "a70d0fd8",
   "metadata": {},
   "source": [
    "We can create 1-dimensional arrays from a range by passing range start and stop values to `np.arange()`:  \n",
    "\n",
    "`np.arange(start, stop)`"
   ]
  },
  {
   "cell_type": "code",
   "execution_count": null,
   "id": "55f2d6cb",
   "metadata": {},
   "outputs": [],
   "source": [
    "# Create a 1-dimensional array of values starting at 10 and ending with 25\n",
    "array_from_arange = ...\n",
    "array_from_arange"
   ]
  },
  {
   "cell_type": "markdown",
   "id": "a52f2b20",
   "metadata": {},
   "source": [
    "### Reshaping arrays"
   ]
  },
  {
   "cell_type": "markdown",
   "id": "7bc6407d",
   "metadata": {},
   "source": [
    "Once we have data stored in an array, NumPy provides huge flexibility manipulating it. One example is reshaping using the `.reshape()` method. Reshape an array by passing a tuple of the desired dimension lengths to `.reshape()`. We'd reshape to a two-dimensional array like so:  \n",
    "\n",
    "`array.reshape((num_rows, num_columns))`"
   ]
  },
  {
   "cell_type": "code",
   "execution_count": null,
   "id": "f83dc4a3",
   "metadata": {},
   "outputs": [],
   "source": [
    "# Reshape the array_from_arange we just created so that it has eight rows and two columns\n",
    "..."
   ]
  },
  {
   "cell_type": "markdown",
   "id": "956c6ec2",
   "metadata": {},
   "source": [
    "### \"n-dimensional\" arrays"
   ]
  },
  {
   "cell_type": "markdown",
   "id": "0f7f82de",
   "metadata": {},
   "source": [
    "NumPy arrays are sometimes called n-dimensional arrays because they can have any number of dimensions. \n",
    "\n",
    "If we think of a three-dimensional array as a list of two-dimensional arrays, the first value is the number of two-dimensional arrays in the list, and the last two values are the number of rows and columns in each two-dimensional array. We can create a three-dimensional array by using this syntax:\n",
    "\n",
    "`array.reshape((num_2d_arrays, num_rows, num_columns))`"
   ]
  },
  {
   "cell_type": "code",
   "execution_count": null,
   "id": "8fb5d7fb",
   "metadata": {},
   "outputs": [],
   "source": [
    "# Reshape the array_from_arange we just created so that it is presented as a list of four 2d arrays\n",
    "# Each 2d array will have two rows and two columns\n",
    "array_from_arange.reshape((...))"
   ]
  },
  {
   "cell_type": "markdown",
   "id": "f548146d",
   "metadata": {},
   "source": [
    "Pretty cool! NumPy can create arrays of any number of dimensions, which can be hard to wrap your head around. For example, you could think of a four-dimensional array as an array of three-dimensional arrays. Here's a picture... but let's move on before we get stuck in the wrong dimension."
   ]
  },
  {
   "cell_type": "markdown",
   "id": "a952fea4",
   "metadata": {},
   "source": [
    "<img src=\"./assets/4D_array.png\" \n",
    "     width=\"400\" \n",
    "     height=\"400\" />"
   ]
  },
  {
   "cell_type": "markdown",
   "id": "26bd7922",
   "metadata": {},
   "source": [
    "## Q & A"
   ]
  },
  {
   "cell_type": "markdown",
   "id": "a3e0285f",
   "metadata": {},
   "source": [
    "### Array Limitations"
   ]
  },
  {
   "cell_type": "markdown",
   "id": "0d7deb2e",
   "metadata": {},
   "source": [
    "If you've worked in pandas, you may notice some key differences between arrays and dataframes.\n",
    "- NumPy arrays have no column names\n",
    "- All data within an array must be of the same type. This can lead to type coercion. "
   ]
  },
  {
   "cell_type": "markdown",
   "id": "b84edb1e",
   "metadata": {},
   "source": [
    "#### Type coercion"
   ]
  },
  {
   "cell_type": "markdown",
   "id": "65058029",
   "metadata": {},
   "source": [
    "Type coercion can occur if we try to make an array out of a Python list with several data types, since NumPy will change the data so that it is all of one type. Let's look at an example."
   ]
  },
  {
   "cell_type": "code",
   "execution_count": null,
   "id": "87497938",
   "metadata": {},
   "outputs": [],
   "source": [
    "array_with_boolean = np.array([[1, 2, 3], [4, 5, True]])\n",
    "array_with_boolean "
   ]
  },
  {
   "cell_type": "markdown",
   "id": "751b82f6",
   "metadata": {},
   "source": [
    "Here, we created an array out of lists which include both integers and booleans, NumPy automatically makes the boolean into a number, 1. Since NumPy did this without us telling it to, this is type coercion. NumPy acted this way because while booleans are easily cast into integers, integers are not easily cast into booleans while still preserving the original data. Here's another example of type coercion:"
   ]
  },
  {
   "cell_type": "code",
   "execution_count": null,
   "id": "89eb5b69",
   "metadata": {},
   "outputs": [],
   "source": [
    "array_with_string = np.array([[1, 2, 3], [4, 5, \"Hello world!\"]])\n",
    "array_with_string"
   ]
  },
  {
   "cell_type": "markdown",
   "id": "9820134a",
   "metadata": {},
   "source": [
    "Now, all of our integers have been cast into strings.  \n",
    "\n",
    "Ultimately, though, these limitations are worth it! Let's look at why."
   ]
  },
  {
   "cell_type": "markdown",
   "id": "37061c9e",
   "metadata": {},
   "source": [
    "## What sets NumPy apart? Why should I use arrays?"
   ]
  },
  {
   "cell_type": "markdown",
   "id": "d60886a4",
   "metadata": {},
   "source": [
    "NumPy has so many great qualities, which become especially important when working with large numerical datasets.\n",
    "- Speed!\n",
    "- Ability to handle data of any dimension!\n",
    "- Lots of great built-in functions and methods!\n"
   ]
  },
  {
   "cell_type": "markdown",
   "id": "f02cfc69",
   "metadata": {},
   "source": [
    "### How does NumPy achieve these results?"
   ]
  },
  {
   "cell_type": "markdown",
   "id": "4948a808",
   "metadata": {},
   "source": [
    "Because all elements in a NumPy array must be the same data type, NumPy is able to outsource tasks to C, a low-level programming language known for its speed and efficient memory usage. Delegating tasks to C is a big reason for NumPy's own efficiency!"
   ]
  },
  {
   "cell_type": "markdown",
   "id": "2cb6bf84",
   "metadata": {},
   "source": [
    "<img src=\"./assets/numpy_python_C.png\" \n",
    "     width=\"800\" \n",
    "     height=\"600\" />"
   ]
  },
  {
   "cell_type": "markdown",
   "id": "c398102b",
   "metadata": {},
   "source": [
    "## A closer look at one of NumPy's excellent functions"
   ]
  },
  {
   "cell_type": "markdown",
   "id": "82e033f8",
   "metadata": {},
   "source": [
    "### Find and replace with `np.where()`"
   ]
  },
  {
   "cell_type": "markdown",
   "id": "f2215e3d",
   "metadata": {},
   "source": [
    "`np.where()` can check whether elements meet a condition and then pull one element if the condition is met and another if not. It uses this syntax:\n",
    "\n",
    "`np.where(condition, replacement_if_true, replacement_if_false)`"
   ]
  },
  {
   "cell_type": "code",
   "execution_count": null,
   "id": "1d53d759",
   "metadata": {},
   "outputs": [],
   "source": [
    "# Here's an array for us to experiment with\n",
    "array = np.array([[1, 2, 3], [4, 5, 6]])\n",
    "\n",
    "# Replace all the even numbers in `array` with zeros\n",
    "updated_array = ...\n",
    "updated_array"
   ]
  },
  {
   "cell_type": "markdown",
   "id": "ea1c6e27",
   "metadata": {},
   "source": [
    "## Q & A"
   ]
  },
  {
   "cell_type": "markdown",
   "id": "94866d0b",
   "metadata": {},
   "source": [
    "## Case study: image data! 🖼"
   ]
  },
  {
   "cell_type": "markdown",
   "id": "ea0bb5bc",
   "metadata": {},
   "source": [
    "NumPy is great for image data because image datasets are large, and data for each image is often three dimensional!\n",
    "We'll use RGB image data in this example.\n",
    "\n",
    "RGB image data stores the color of each pixel in an image as a combination of a red value, a green value, and a blue value (in that order). \n",
    "\n",
    "Here's an example array and a visual representation of the data it stores:"
   ]
  },
  {
   "cell_type": "code",
   "execution_count": 2,
   "id": "9b19f89e",
   "metadata": {},
   "outputs": [],
   "source": [
    "rgb_example = np.array([[[255, 0, 0], [255, 255, 0], [255, 255, 255]],\n",
    "               \t\t\t[[255, 0, 255], [0, 255, 0], [0, 255, 255]],\n",
    "               \t\t\t[[0, 0, 0], [0, 255, 255], [0, 0, 255]]])"
   ]
  },
  {
   "cell_type": "markdown",
   "id": "8fec8ac3",
   "metadata": {},
   "source": [
    "<img src=\"./assets/rgb_multicolor.png\" \n",
    "     width=\"500\" \n",
    "     height=\"600\" />"
   ]
  },
  {
   "cell_type": "markdown",
   "id": "9755e4d7",
   "metadata": {},
   "source": [
    "Let's look at how the red, green and blue values in our array are combined to create the color for a single pixel. We can do this with the help of Matplotlib's `pyplot` methods."
   ]
  },
  {
   "cell_type": "code",
   "execution_count": 3,
   "id": "adcc200e",
   "metadata": {},
   "outputs": [
    {
     "data": {
      "image/png": "[encoded data removed]",
      "text/plain": [
       "<Figure size 432x288 with 1 Axes>"
      ]
     },
     "metadata": {
      "needs_background": "light"
     },
     "output_type": "display_data"
    }
   ],
   "source": [
    "import matplotlib.pyplot as plt\n",
    "plt.imshow(rgb_example)\n",
    "plt.show()"
   ]
  },
  {
   "cell_type": "markdown",
   "id": "59146907",
   "metadata": {},
   "source": [
    "### Our image data"
   ]
  },
  {
   "cell_type": "markdown",
   "id": "afe6c158",
   "metadata": {},
   "source": [
    "Now let's look at a real image, albeit a simple one: the DataCamp logo! The logo rgb information is already stored in a NumPy array and saved as a `.npy` file called `dc_logo_rgb_array.npy` in the data folder. We can load the array using `np.load()`:"
   ]
  },
  {
   "cell_type": "code",
   "execution_count": null,
   "id": "588b7e41",
   "metadata": {
    "scrolled": true
   },
   "outputs": [],
   "source": [
    "# Load logo array\n",
    "black_logo = np.load(\"data/dc_logo_rgb_array.npy\")\n",
    "# Take a look at its contents\n",
    "black_logo"
   ]
  },
  {
   "cell_type": "markdown",
   "id": "bb18953c",
   "metadata": {},
   "source": [
    "Now, let's visualize the image using `pyplot` to see how it looks."
   ]
  },
  {
   "cell_type": "code",
   "execution_count": null,
   "id": "f5ace109",
   "metadata": {
    "scrolled": true
   },
   "outputs": [],
   "source": [
    "plt.imshow(black_logo)\n",
    "plt.show()"
   ]
  },
  {
   "cell_type": "markdown",
   "id": "591c90dd",
   "metadata": {},
   "source": [
    "Great, it looks like we've got a green DataCamp logo on a black background. But what if we want a white background, or a pink logo on a back background? Achieving this is as simple as writing a single line of code in NumPy!"
   ]
  },
  {
   "cell_type": "markdown",
   "id": "8ba28cfd",
   "metadata": {},
   "source": [
    "### Using `np.where()` to manipulate our image"
   ]
  },
  {
   "cell_type": "markdown",
   "id": "5906bd69",
   "metadata": {},
   "source": [
    "#### Creating a white logo"
   ]
  },
  {
   "cell_type": "code",
   "execution_count": null,
   "id": "9ade2ad9",
   "metadata": {},
   "outputs": [],
   "source": [
    "# Use your np.where() skills to replace all 255 values with the value representing white\n",
    "# Recall that a white pixel is created when the red, green, and blue values are all 255\n",
    "white_logo = ..."
   ]
  },
  {
   "cell_type": "code",
   "execution_count": null,
   "id": "155fedf6",
   "metadata": {},
   "outputs": [],
   "source": [
    "# Did that work? Let's check.\n",
    "plt.imshow(white_logo)\n",
    "plt.show()"
   ]
  },
  {
   "cell_type": "markdown",
   "id": "c4466e9f",
   "metadata": {},
   "source": [
    "#### Creating a pink and black logo"
   ]
  },
  {
   "cell_type": "markdown",
   "id": "8701a90d",
   "metadata": {},
   "source": [
    "Let's go back to our black and green logo and assume that we like the black background, but we want to replace the green with DataCamp's pink color, which has the following values:\n",
    "- Red: 255\n",
    "- Green: 110\n",
    "- Blue: 169\n",
    "\n",
    "We can do this by replacing all pixels which are _not_ black (black is represented with [0, 0, 0]) with a pink pixel. "
   ]
  },
  {
   "cell_type": "code",
   "execution_count": null,
   "id": "3235bdaf",
   "metadata": {},
   "outputs": [],
   "source": [
    "# Replace all instances of [0, 0, 0] with a 1D array of the rgb values for DataCamp pink\n",
    "pink_black_logo = ..."
   ]
  },
  {
   "cell_type": "code",
   "execution_count": null,
   "id": "c47f92d1",
   "metadata": {},
   "outputs": [],
   "source": [
    "# Did that work? Let's check.\n",
    "plt.imshow(pink_black_logo)\n",
    "plt.show()"
   ]
  },
  {
   "cell_type": "markdown",
   "id": "096f8297",
   "metadata": {},
   "source": [
    "### Is this data science?"
   ]
  },
  {
   "cell_type": "markdown",
   "id": "c3825349",
   "metadata": {},
   "source": [
    "- Yes!! This type of image manipulation can be used to augment machine learning data.\n",
    "- Learn more in our [Image Processing in Python](https://www.datacamp.com/courses/image-processing-in-python) course."
   ]
  },
  {
   "cell_type": "markdown",
   "id": "0c918f8e",
   "metadata": {},
   "source": [
    "## What else can NumPy do?"
   ]
  },
  {
   "cell_type": "markdown",
   "id": "494be09a",
   "metadata": {},
   "source": [
    "#### So much! If you're doing work with large numerical datasets, consider learning more about NumPy."
   ]
  },
  {
   "cell_type": "markdown",
   "id": "888bbc39",
   "metadata": {},
   "source": [
    "- Statisitcs\n",
    "- Linear algebra\n",
    "- Data cleaning and augmentation\n",
    "- Machine learning inputs"
   ]
  },
  {
   "cell_type": "markdown",
   "id": "84ca69c2",
   "metadata": {},
   "source": [
    "# Learn more in [Introduction to NumPy](https://www.datacamp.com/courses/introduction-to-numpy)!"
   ]
  },
  {
   "cell_type": "markdown",
   "id": "3ddae7b5",
   "metadata": {},
   "source": [
    "<img src=\"./assets/transpose_gif.gif\" \n",
    "     width=\"800\" \n",
    "     height=\"600\" />"
   ]
  }
 ],
 "metadata": {
  "kernelspec": {
   "display_name": "Python 3 (ipykernel)",
   "language": "python",
   "name": "python3"
  },
  "language_info": {
   "codemirror_mode": {
    "name": "ipython",
    "version": 3
   },
   "file_extension": ".py",
   "mimetype": "text/x-python",
   "name": "python",
   "nbconvert_exporter": "python",
   "pygments_lexer": "ipython3",
   "version": "3.10.0"
  },
  "toc": {
   "base_numbering": 1,
   "nav_menu": {},
   "number_sections": false,
   "sideBar": true,
   "skip_h1_title": true,
   "title_cell": "Table of Contents",
   "title_sidebar": "Contents",
   "toc_cell": false,
   "toc_position": {},
   "toc_section_display": true,
   "toc_window_display": true
  }
 },
 "nbformat": 4,
 "nbformat_minor": 5
}
